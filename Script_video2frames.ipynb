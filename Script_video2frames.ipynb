{
 "cells": [
  {
   "cell_type": "code",
   "execution_count": 2,
   "metadata": {},
   "outputs": [
    {
     "name": "stdout",
     "output_type": "stream",
     "text": [
      "Traceback (most recent call last):\n",
      "  File \"vidtools/extract_frames.py\", line 9, in <module>\n",
      "    from joblib import Parallel\n",
      "ModuleNotFoundError: No module named 'joblib'\n"
     ]
    }
   ],
   "source": [
    "!python vidtools/extract_frames.py /media/nitro/hdd/course_work/VGAF/Train/ \\\n",
    "-o /media/nitro/hdd/course_work/VGAF/Train_img_like_kinetics/frames/ \\\n",
    "-j 8 --out_ext png"
   ]
  },
  {
   "cell_type": "code",
   "execution_count": null,
   "metadata": {},
   "outputs": [],
   "source": []
  }
 ],
 "metadata": {
  "kernelspec": {
   "display_name": "Python 3",
   "language": "python",
   "name": "python3"
  },
  "language_info": {
   "codemirror_mode": {
    "name": "ipython",
    "version": 3
   },
   "file_extension": ".py",
   "mimetype": "text/x-python",
   "name": "python",
   "nbconvert_exporter": "python",
   "pygments_lexer": "ipython3",
   "version": "3.8.5"
  }
 },
 "nbformat": 4,
 "nbformat_minor": 4
}
