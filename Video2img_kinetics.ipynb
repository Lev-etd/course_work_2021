{
 "cells": [
  {
   "cell_type": "code",
   "execution_count": 4,
   "metadata": {},
   "outputs": [],
   "source": [
    "from __future__ import print_function, division\n",
    "import os\n",
    "import sys\n",
    "import subprocess\n",
    "from multiprocessing import Pool\n",
    "from tqdm import tqdm\n",
    "\n",
    "n_thread = 10"
   ]
  },
  {
   "cell_type": "code",
   "execution_count": 2,
   "metadata": {},
   "outputs": [],
   "source": [
    "def vid2jpg(file_name, class_path, dst_class_path):\n",
    "    if '.mp4' not in file_name:\n",
    "        return\n",
    "    name, ext = os.path.splitext(file_name)\n",
    "    dst_directory_path = os.path.join(dst_class_path, name)\n",
    "\n",
    "    video_file_path = os.path.join(class_path, file_name)\n",
    "    try:\n",
    "        if os.path.exists(dst_directory_path):\n",
    "            if not os.path.exists(os.path.join(dst_directory_path, 'img_00001.jpg')):\n",
    "                subprocess.call('rm -r \\\"{}\\\"'.format(dst_directory_path), shell=True)\n",
    "                print('remove {}'.format(dst_directory_path))\n",
    "                os.mkdir(dst_directory_path)\n",
    "            else:\n",
    "                print('*** convert has been done: {}'.format(dst_directory_path))\n",
    "                return\n",
    "        else:\n",
    "            os.mkdir(dst_directory_path)\n",
    "    except:\n",
    "        print(dst_directory_path)\n",
    "        return\n",
    "    cmd = 'ffmpeg -i \\\"{}\\\" -threads 1 -vf \"fps=30,scale=-1:331\" -q:v 0 -r 1.2 \\\"{}/img_%05d.jpg\\\"'.format(video_file_path, dst_directory_path)\n",
    "    # print(cmd)\n",
    "    subprocess.call(cmd, shell=True,\n",
    "                    stdout=subprocess.DEVNULL, stderr=subprocess.DEVNULL)\n"
   ]
  },
  {
   "cell_type": "code",
   "execution_count": 3,
   "metadata": {},
   "outputs": [],
   "source": [
    "def class_process(dir_path, dst_dir_path, class_name):\n",
    "    print('*' * 20, class_name, '*'*20)\n",
    "    class_path = os.path.join(dir_path, class_name)\n",
    "#     if not os.path.isdir(class_path):\n",
    "#         print('*** is not a dir {}'.format(class_path))\n",
    "#         return\n",
    "\n",
    "    dst_class_path = os.path.join(dst_dir_path, class_name)\n",
    "    if not os.path.exists(dst_class_path):\n",
    "        os.mkdir(dst_class_path)\n",
    "\n",
    "    vid_list = os.listdir(dir_path)\n",
    "    vid_list.sort()\n",
    "    p = Pool(n_thread)\n",
    "    from functools import partial\n",
    "    worker = partial(vid2jpg, class_path=class_path, dst_class_path=dst_class_path)\n",
    "    for _ in tqdm(p.imap_unordered(worker, vid_list), total=len(vid_list)):\n",
    "        pass\n",
    "    # p.map(worker, vid_list)\n",
    "    p.close()\n",
    "    p.join()\n",
    "\n",
    "    print('\\n')\n"
   ]
  },
  {
   "cell_type": "code",
   "execution_count": null,
   "metadata": {},
   "outputs": [],
   "source": [
    "if __name__ == \"__main__\":\n",
    "    dir_path = \"VGAF/Train/\"\n",
    "    dst_dir_path = \"VGAF/Train_img_like_kinetics/\"\n",
    "\n",
    "    class_list = os.listdir(dir_path)\n",
    "    \n",
    "    for class_name in class_list:\n",
    "        class_name = class_name.split(\".\")[0]\n",
    "        class_process(dir_path, dst_dir_path, class_name)\n",
    "\n",
    "    class_name = 'test'\n",
    "    class_process(dir_path, dst_dir_path, class_name)"
   ]
  },
  {
   "cell_type": "code",
   "execution_count": 1,
   "metadata": {},
   "outputs": [],
   "source": [
    "def vid2jpg(file_name, class_path, dst_class_path):\n",
    "    if '.mp4' not in file_name:\n",
    "        return\n",
    "    name, ext = os.path.splitext(file_name)\n",
    "    dst_directory_path = os.path.join(dst_class_path, name)\n",
    "\n",
    "    video_file_path = os.path.join(class_path, file_name)\n",
    "    try:\n",
    "        if os.path.exists(dst_directory_path):\n",
    "            if not os.path.exists(os.path.join(dst_directory_path, 'img_00001.jpg')):\n",
    "                subprocess.call('rm -r \\\"{}\\\"'.format(dst_directory_path), shell=True)\n",
    "                print('remove {}'.format(dst_directory_path))\n",
    "                os.mkdir(dst_directory_path)\n",
    "            else:\n",
    "                print('*** convert has been done: {}'.format(dst_directory_path))\n",
    "                return\n",
    "        else:\n",
    "            os.mkdir(dst_directory_path)\n",
    "    except:\n",
    "        print(dst_directory_path)\n",
    "        return\n",
    "    cmd = 'ffmpeg -i \\\"{}\\\" -threads 1 -vf \"fps=30,scale=-1:331\" -q:v 0 -r 1.2 \\\"{}/img_%05d.jpg\\\"'.format(video_file_path, dst_directory_path)\n",
    "    # print(cmd)\n",
    "    subprocess.call(cmd, shell=True,\n",
    "                    stdout=subprocess.DEVNULL, stderr=subprocess.DEVNULL)\n"
   ]
  },
  {
   "cell_type": "code",
   "execution_count": 8,
   "metadata": {},
   "outputs": [],
   "source": [
    "def class_process(dir_path, dst_dir_path, class_name):\n",
    "    print('*' * 20, class_name, '*'*20)\n",
    "    class_path = os.path.join(dir_path, class_name)\n",
    "#     if not os.path.isdir(class_path):\n",
    "#         print('*** is not a dir {}'.format(class_path))\n",
    "#         return\n",
    "\n",
    "    dst_class_path = os.path.join(dst_dir_path, class_name)\n",
    "    if not os.path.exists(dst_class_path):\n",
    "        os.mkdir(dst_class_path)\n",
    "\n",
    "    vid_list = os.listdir(dir_path)\n",
    "    vid_list.sort()\n",
    "    p = Pool(n_thread)\n",
    "    from functools import partial\n",
    "    worker = partial(vid2jpg, class_path=class_path, dst_class_path=dst_class_path)\n",
    "    for _ in tqdm(p.imap_unordered(worker, vid_list), total=len(vid_list)):\n",
    "        pass\n",
    "    # p.map(worker, vid_list)\n",
    "    p.close()\n",
    "    p.join()\n",
    "\n",
    "    print('\\n')\n"
   ]
  },
  {
   "cell_type": "code",
   "execution_count": 9,
   "metadata": {},
   "outputs": [
    {
     "name": "stdout",
     "output_type": "stream",
     "text": [
      "******************** 101_1.mp4 ********************\n"
     ]
    },
    {
     "name": "stderr",
     "output_type": "stream",
     "text": [
      " 41%|████      | 1095/2661 [00:02<00:03, 421.76it/s]Process ForkPoolWorker-10:\n",
      "Process ForkPoolWorker-9:\n"
     ]
    },
    {
     "name": "stdout",
     "output_type": "stream",
     "text": [
      "VGAF/Train_img_like_kinetics/101_1.mp4/279_2"
     ]
    },
    {
     "name": "stderr",
     "output_type": "stream",
     "text": [
      "Process ForkPoolWorker-7:\n",
      "Process ForkPoolWorker-3:\n",
      "\n",
      "Process ForkPoolWorker-6:\n",
      "Process ForkPoolWorker-4:\n",
      "Traceback (most recent call last):\n",
      "Traceback (most recent call last):\n",
      "Traceback (most recent call last):\n",
      "Traceback (most recent call last):\n",
      "Traceback (most recent call last):\n"
     ]
    },
    {
     "name": "stdout",
     "output_type": "stream",
     "text": [
      "\n"
     ]
    },
    {
     "name": "stderr",
     "output_type": "stream",
     "text": [
      "  File \"/home/nitro/anaconda3/envs/course_work/lib/python3.8/multiprocessing/process.py\", line 315, in _bootstrap\n",
      "    self.run()\n"
     ]
    },
    {
     "name": "stdout",
     "output_type": "stream",
     "text": [
      "VGAF/Train_img_like_kinetics/101_1.mp4/279_4"
     ]
    },
    {
     "name": "stderr",
     "output_type": "stream",
     "text": [
      "  File \"/home/nitro/anaconda3/envs/course_work/lib/python3.8/multiprocessing/process.py\", line 315, in _bootstrap\n",
      "    self.run()\n",
      "  File \"/home/nitro/anaconda3/envs/course_work/lib/python3.8/multiprocessing/process.py\", line 315, in _bootstrap\n",
      "    self.run()\n",
      "  File \"/home/nitro/anaconda3/envs/course_work/lib/python3.8/multiprocessing/process.py\", line 108, in run\n",
      "    self._target(*self._args, **self._kwargs)\n",
      "  File \"<ipython-input-1-3b0a1c668753>\", line 24, in vid2jpg\n",
      "    subprocess.call(cmd, shell=True,\n",
      "  File \"/home/nitro/anaconda3/envs/course_work/lib/python3.8/multiprocessing/pool.py\", line 125, in worker\n",
      "    result = (True, func(*args, **kwds))\n",
      "  File \"/home/nitro/anaconda3/envs/course_work/lib/python3.8/multiprocessing/process.py\", line 108, in run\n",
      "    self._target(*self._args, **self._kwargs)\n",
      "  File \"/home/nitro/anaconda3/envs/course_work/lib/python3.8/multiprocessing/process.py\", line 315, in _bootstrap\n",
      "    self.run()\n",
      "  File \"/home/nitro/anaconda3/envs/course_work/lib/python3.8/multiprocessing/process.py\", line 108, in run\n",
      "    self._target(*self._args, **self._kwargs)\n",
      "  File \"/home/nitro/anaconda3/envs/course_work/lib/python3.8/multiprocessing/pool.py\", line 125, in worker\n",
      "    result = (True, func(*args, **kwds))\n",
      "  File \"/home/nitro/anaconda3/envs/course_work/lib/python3.8/subprocess.py\", line 342, in call\n",
      "    return p.wait(timeout=timeout)\n",
      "  File \"/home/nitro/anaconda3/envs/course_work/lib/python3.8/multiprocessing/process.py\", line 315, in _bootstrap\n",
      "    self.run()\n",
      "  File \"<ipython-input-1-3b0a1c668753>\", line 24, in vid2jpg\n",
      "    subprocess.call(cmd, shell=True,\n",
      "Traceback (most recent call last):\n",
      "  File \"/home/nitro/anaconda3/envs/course_work/lib/python3.8/multiprocessing/process.py\", line 108, in run\n",
      "    self._target(*self._args, **self._kwargs)\n",
      "  File \"/home/nitro/anaconda3/envs/course_work/lib/python3.8/multiprocessing/pool.py\", line 125, in worker\n",
      "    result = (True, func(*args, **kwds))\n",
      "  File \"/home/nitro/anaconda3/envs/course_work/lib/python3.8/multiprocessing/process.py\", line 315, in _bootstrap\n",
      "    self.run()\n",
      "  File \"<ipython-input-1-3b0a1c668753>\", line 24, in vid2jpg\n",
      "    subprocess.call(cmd, shell=True,\n",
      "  File \"/home/nitro/anaconda3/envs/course_work/lib/python3.8/subprocess.py\", line 1079, in wait\n",
      "    return self._wait(timeout=timeout)\n"
     ]
    },
    {
     "name": "stdout",
     "output_type": "stream",
     "text": [
      "\n"
     ]
    },
    {
     "name": "stderr",
     "output_type": "stream",
     "text": [
      "  File \"/home/nitro/anaconda3/envs/course_work/lib/python3.8/multiprocessing/process.py\", line 108, in run\n",
      "    self._target(*self._args, **self._kwargs)\n",
      "  File \"/home/nitro/anaconda3/envs/course_work/lib/python3.8/subprocess.py\", line 1804, in _wait\n",
      "    (pid, sts) = self._try_wait(0)\n",
      "  File \"/home/nitro/anaconda3/envs/course_work/lib/python3.8/subprocess.py\", line 340, in call\n",
      "    with Popen(*popenargs, **kwargs) as p:\n",
      "  File \"/home/nitro/anaconda3/envs/course_work/lib/python3.8/multiprocessing/pool.py\", line 125, in worker\n",
      "    result = (True, func(*args, **kwds))\n",
      "  File \"/home/nitro/anaconda3/envs/course_work/lib/python3.8/multiprocessing/process.py\", line 108, in run\n",
      "    self._target(*self._args, **self._kwargs)\n",
      "  File \"/home/nitro/anaconda3/envs/course_work/lib/python3.8/subprocess.py\", line 1762, in _try_wait\n",
      "    (pid, sts) = os.waitpid(self.pid, wait_flags)\n",
      "  File \"/home/nitro/anaconda3/envs/course_work/lib/python3.8/subprocess.py\", line 340, in call\n",
      "    with Popen(*popenargs, **kwargs) as p:\n",
      "  File \"/home/nitro/anaconda3/envs/course_work/lib/python3.8/multiprocessing/pool.py\", line 125, in worker\n",
      "    result = (True, func(*args, **kwds))\n",
      "  File \"/home/nitro/anaconda3/envs/course_work/lib/python3.8/subprocess.py\", line 854, in __init__\n",
      "    self._execute_child(args, executable, preexec_fn, close_fds,\n",
      "KeyboardInterrupt\n",
      "  File \"/home/nitro/anaconda3/envs/course_work/lib/python3.8/multiprocessing/pool.py\", line 125, in worker\n",
      "    result = (True, func(*args, **kwds))\n",
      "  File \"<ipython-input-1-3b0a1c668753>\", line 24, in vid2jpg\n",
      "    subprocess.call(cmd, shell=True,\n",
      "  File \"/home/nitro/anaconda3/envs/course_work/lib/python3.8/subprocess.py\", line 342, in call\n",
      "    return p.wait(timeout=timeout)\n",
      "  File \"<ipython-input-1-3b0a1c668753>\", line 24, in vid2jpg\n",
      "    subprocess.call(cmd, shell=True,\n",
      "  File \"/home/nitro/anaconda3/envs/course_work/lib/python3.8/subprocess.py\", line 1637, in _execute_child\n",
      "    self.pid = _posixsubprocess.fork_exec(\n",
      "  File \"/home/nitro/anaconda3/envs/course_work/lib/python3.8/subprocess.py\", line 1079, in wait\n",
      "    return self._wait(timeout=timeout)\n",
      "  File \"<ipython-input-1-3b0a1c668753>\", line 24, in vid2jpg\n",
      "    subprocess.call(cmd, shell=True,\n",
      "  File \"/home/nitro/anaconda3/envs/course_work/lib/python3.8/subprocess.py\", line 854, in __init__\n",
      "    self._execute_child(args, executable, preexec_fn, close_fds,\n",
      "  File \"/home/nitro/anaconda3/envs/course_work/lib/python3.8/subprocess.py\", line 340, in call\n",
      "    with Popen(*popenargs, **kwargs) as p:\n",
      "  File \"/home/nitro/anaconda3/envs/course_work/lib/python3.8/subprocess.py\", line 340, in call\n",
      "    with Popen(*popenargs, **kwargs) as p:\n",
      "KeyboardInterrupt\n",
      "  File \"/home/nitro/anaconda3/envs/course_work/lib/python3.8/subprocess.py\", line 1658, in _execute_child\n",
      "    part = os.read(errpipe_read, 50000)\n"
     ]
    },
    {
     "ename": "KeyboardInterrupt",
     "evalue": "",
     "output_type": "error",
     "traceback": [
      "\u001b[0;31m---------------------------------------------------------------------------\u001b[0m",
      "\u001b[0;31mIndexError\u001b[0m                                Traceback (most recent call last)",
      "\u001b[0;32m~/anaconda3/envs/course_work/lib/python3.8/multiprocessing/pool.py\u001b[0m in \u001b[0;36mnext\u001b[0;34m(self, timeout)\u001b[0m\n\u001b[1;32m    850\u001b[0m             \u001b[0;32mtry\u001b[0m\u001b[0;34m:\u001b[0m\u001b[0;34m\u001b[0m\u001b[0;34m\u001b[0m\u001b[0m\n\u001b[0;32m--> 851\u001b[0;31m                 \u001b[0mitem\u001b[0m \u001b[0;34m=\u001b[0m \u001b[0mself\u001b[0m\u001b[0;34m.\u001b[0m\u001b[0m_items\u001b[0m\u001b[0;34m.\u001b[0m\u001b[0mpopleft\u001b[0m\u001b[0;34m(\u001b[0m\u001b[0;34m)\u001b[0m\u001b[0;34m\u001b[0m\u001b[0;34m\u001b[0m\u001b[0m\n\u001b[0m\u001b[1;32m    852\u001b[0m             \u001b[0;32mexcept\u001b[0m \u001b[0mIndexError\u001b[0m\u001b[0;34m:\u001b[0m\u001b[0;34m\u001b[0m\u001b[0;34m\u001b[0m\u001b[0m\n",
      "\u001b[0;31mIndexError\u001b[0m: pop from an empty deque",
      "\nDuring handling of the above exception, another exception occurred:\n",
      "\u001b[0;31mKeyboardInterrupt\u001b[0m                         Traceback (most recent call last)",
      "\u001b[0;32m<ipython-input-9-3d47c90b4b7c>\u001b[0m in \u001b[0;36m<module>\u001b[0;34m\u001b[0m\n\u001b[1;32m      6\u001b[0m     \u001b[0mclass_list\u001b[0m\u001b[0;34m.\u001b[0m\u001b[0msort\u001b[0m\u001b[0;34m(\u001b[0m\u001b[0;34m)\u001b[0m\u001b[0;34m\u001b[0m\u001b[0;34m\u001b[0m\u001b[0m\n\u001b[1;32m      7\u001b[0m     \u001b[0;32mfor\u001b[0m \u001b[0mclass_name\u001b[0m \u001b[0;32min\u001b[0m \u001b[0mclass_list\u001b[0m\u001b[0;34m:\u001b[0m\u001b[0;34m\u001b[0m\u001b[0;34m\u001b[0m\u001b[0m\n\u001b[0;32m----> 8\u001b[0;31m         \u001b[0mclass_process\u001b[0m\u001b[0;34m(\u001b[0m\u001b[0mdir_path\u001b[0m\u001b[0;34m,\u001b[0m \u001b[0mdst_dir_path\u001b[0m\u001b[0;34m,\u001b[0m \u001b[0mclass_name\u001b[0m\u001b[0;34m)\u001b[0m\u001b[0;34m\u001b[0m\u001b[0;34m\u001b[0m\u001b[0m\n\u001b[0m\u001b[1;32m      9\u001b[0m \u001b[0;34m\u001b[0m\u001b[0m\n\u001b[1;32m     10\u001b[0m     \u001b[0mclass_name\u001b[0m \u001b[0;34m=\u001b[0m \u001b[0;34m'test'\u001b[0m\u001b[0;34m\u001b[0m\u001b[0;34m\u001b[0m\u001b[0m\n",
      "\u001b[0;32m<ipython-input-8-98bc0d8abb40>\u001b[0m in \u001b[0;36mclass_process\u001b[0;34m(dir_path, dst_dir_path, class_name)\u001b[0m\n\u001b[1;32m     15\u001b[0m     \u001b[0;32mfrom\u001b[0m \u001b[0mfunctools\u001b[0m \u001b[0;32mimport\u001b[0m \u001b[0mpartial\u001b[0m\u001b[0;34m\u001b[0m\u001b[0;34m\u001b[0m\u001b[0m\n\u001b[1;32m     16\u001b[0m     \u001b[0mworker\u001b[0m \u001b[0;34m=\u001b[0m \u001b[0mpartial\u001b[0m\u001b[0;34m(\u001b[0m\u001b[0mvid2jpg\u001b[0m\u001b[0;34m,\u001b[0m \u001b[0mclass_path\u001b[0m\u001b[0;34m=\u001b[0m\u001b[0mclass_path\u001b[0m\u001b[0;34m,\u001b[0m \u001b[0mdst_class_path\u001b[0m\u001b[0;34m=\u001b[0m\u001b[0mdst_class_path\u001b[0m\u001b[0;34m)\u001b[0m\u001b[0;34m\u001b[0m\u001b[0;34m\u001b[0m\u001b[0m\n\u001b[0;32m---> 17\u001b[0;31m     \u001b[0;32mfor\u001b[0m \u001b[0m_\u001b[0m \u001b[0;32min\u001b[0m \u001b[0mtqdm\u001b[0m\u001b[0;34m(\u001b[0m\u001b[0mp\u001b[0m\u001b[0;34m.\u001b[0m\u001b[0mimap_unordered\u001b[0m\u001b[0;34m(\u001b[0m\u001b[0mworker\u001b[0m\u001b[0;34m,\u001b[0m \u001b[0mvid_list\u001b[0m\u001b[0;34m)\u001b[0m\u001b[0;34m,\u001b[0m \u001b[0mtotal\u001b[0m\u001b[0;34m=\u001b[0m\u001b[0mlen\u001b[0m\u001b[0;34m(\u001b[0m\u001b[0mvid_list\u001b[0m\u001b[0;34m)\u001b[0m\u001b[0;34m)\u001b[0m\u001b[0;34m:\u001b[0m\u001b[0;34m\u001b[0m\u001b[0;34m\u001b[0m\u001b[0m\n\u001b[0m\u001b[1;32m     18\u001b[0m         \u001b[0;32mpass\u001b[0m\u001b[0;34m\u001b[0m\u001b[0;34m\u001b[0m\u001b[0m\n\u001b[1;32m     19\u001b[0m     \u001b[0;31m# p.map(worker, vid_list)\u001b[0m\u001b[0;34m\u001b[0m\u001b[0;34m\u001b[0m\u001b[0;34m\u001b[0m\u001b[0m\n",
      "\u001b[0;32m~/anaconda3/envs/course_work/lib/python3.8/site-packages/tqdm/std.py\u001b[0m in \u001b[0;36m__iter__\u001b[0;34m(self)\u001b[0m\n\u001b[1;32m   1165\u001b[0m \u001b[0;34m\u001b[0m\u001b[0m\n\u001b[1;32m   1166\u001b[0m         \u001b[0;32mtry\u001b[0m\u001b[0;34m:\u001b[0m\u001b[0;34m\u001b[0m\u001b[0;34m\u001b[0m\u001b[0m\n\u001b[0;32m-> 1167\u001b[0;31m             \u001b[0;32mfor\u001b[0m \u001b[0mobj\u001b[0m \u001b[0;32min\u001b[0m \u001b[0miterable\u001b[0m\u001b[0;34m:\u001b[0m\u001b[0;34m\u001b[0m\u001b[0;34m\u001b[0m\u001b[0m\n\u001b[0m\u001b[1;32m   1168\u001b[0m                 \u001b[0;32myield\u001b[0m \u001b[0mobj\u001b[0m\u001b[0;34m\u001b[0m\u001b[0;34m\u001b[0m\u001b[0m\n\u001b[1;32m   1169\u001b[0m                 \u001b[0;31m# Update and possibly print the progressbar.\u001b[0m\u001b[0;34m\u001b[0m\u001b[0;34m\u001b[0m\u001b[0;34m\u001b[0m\u001b[0m\n",
      "\u001b[0;32m~/anaconda3/envs/course_work/lib/python3.8/multiprocessing/pool.py\u001b[0m in \u001b[0;36mnext\u001b[0;34m(self, timeout)\u001b[0m\n\u001b[1;32m    854\u001b[0m                     \u001b[0mself\u001b[0m\u001b[0;34m.\u001b[0m\u001b[0m_pool\u001b[0m \u001b[0;34m=\u001b[0m \u001b[0;32mNone\u001b[0m\u001b[0;34m\u001b[0m\u001b[0;34m\u001b[0m\u001b[0m\n\u001b[1;32m    855\u001b[0m                     \u001b[0;32mraise\u001b[0m \u001b[0mStopIteration\u001b[0m \u001b[0;32mfrom\u001b[0m \u001b[0;32mNone\u001b[0m\u001b[0;34m\u001b[0m\u001b[0;34m\u001b[0m\u001b[0m\n\u001b[0;32m--> 856\u001b[0;31m                 \u001b[0mself\u001b[0m\u001b[0;34m.\u001b[0m\u001b[0m_cond\u001b[0m\u001b[0;34m.\u001b[0m\u001b[0mwait\u001b[0m\u001b[0;34m(\u001b[0m\u001b[0mtimeout\u001b[0m\u001b[0;34m)\u001b[0m\u001b[0;34m\u001b[0m\u001b[0;34m\u001b[0m\u001b[0m\n\u001b[0m\u001b[1;32m    857\u001b[0m                 \u001b[0;32mtry\u001b[0m\u001b[0;34m:\u001b[0m\u001b[0;34m\u001b[0m\u001b[0;34m\u001b[0m\u001b[0m\n\u001b[1;32m    858\u001b[0m                     \u001b[0mitem\u001b[0m \u001b[0;34m=\u001b[0m \u001b[0mself\u001b[0m\u001b[0;34m.\u001b[0m\u001b[0m_items\u001b[0m\u001b[0;34m.\u001b[0m\u001b[0mpopleft\u001b[0m\u001b[0;34m(\u001b[0m\u001b[0;34m)\u001b[0m\u001b[0;34m\u001b[0m\u001b[0;34m\u001b[0m\u001b[0m\n",
      "\u001b[0;32m~/anaconda3/envs/course_work/lib/python3.8/threading.py\u001b[0m in \u001b[0;36mwait\u001b[0;34m(self, timeout)\u001b[0m\n\u001b[1;32m    300\u001b[0m         \u001b[0;32mtry\u001b[0m\u001b[0;34m:\u001b[0m    \u001b[0;31m# restore state no matter what (e.g., KeyboardInterrupt)\u001b[0m\u001b[0;34m\u001b[0m\u001b[0;34m\u001b[0m\u001b[0m\n\u001b[1;32m    301\u001b[0m             \u001b[0;32mif\u001b[0m \u001b[0mtimeout\u001b[0m \u001b[0;32mis\u001b[0m \u001b[0;32mNone\u001b[0m\u001b[0;34m:\u001b[0m\u001b[0;34m\u001b[0m\u001b[0;34m\u001b[0m\u001b[0m\n\u001b[0;32m--> 302\u001b[0;31m                 \u001b[0mwaiter\u001b[0m\u001b[0;34m.\u001b[0m\u001b[0macquire\u001b[0m\u001b[0;34m(\u001b[0m\u001b[0;34m)\u001b[0m\u001b[0;34m\u001b[0m\u001b[0;34m\u001b[0m\u001b[0m\n\u001b[0m\u001b[1;32m    303\u001b[0m                 \u001b[0mgotit\u001b[0m \u001b[0;34m=\u001b[0m \u001b[0;32mTrue\u001b[0m\u001b[0;34m\u001b[0m\u001b[0;34m\u001b[0m\u001b[0m\n\u001b[1;32m    304\u001b[0m             \u001b[0;32melse\u001b[0m\u001b[0;34m:\u001b[0m\u001b[0;34m\u001b[0m\u001b[0;34m\u001b[0m\u001b[0m\n",
      "\u001b[0;31mKeyboardInterrupt\u001b[0m: "
     ]
    },
    {
     "name": "stderr",
     "output_type": "stream",
     "text": [
      "  File \"/home/nitro/anaconda3/envs/course_work/lib/python3.8/subprocess.py\", line 854, in __init__\n",
      "    self._execute_child(args, executable, preexec_fn, close_fds,\n",
      "  File \"/home/nitro/anaconda3/envs/course_work/lib/python3.8/subprocess.py\", line 854, in __init__\n",
      "    self._execute_child(args, executable, preexec_fn, close_fds,\n",
      "  File \"/home/nitro/anaconda3/envs/course_work/lib/python3.8/subprocess.py\", line 1804, in _wait\n",
      "    (pid, sts) = self._try_wait(0)\n",
      "  File \"/home/nitro/anaconda3/envs/course_work/lib/python3.8/subprocess.py\", line 1762, in _try_wait\n",
      "    (pid, sts) = os.waitpid(self.pid, wait_flags)\n",
      "  File \"/home/nitro/anaconda3/envs/course_work/lib/python3.8/subprocess.py\", line 1658, in _execute_child\n",
      "    part = os.read(errpipe_read, 50000)\n",
      "KeyboardInterrupt\n",
      "  File \"/home/nitro/anaconda3/envs/course_work/lib/python3.8/subprocess.py\", line 1658, in _execute_child\n",
      "    part = os.read(errpipe_read, 50000)\n",
      "KeyboardInterrupt\n",
      "Process ForkPoolWorker-2:\n",
      "Process ForkPoolWorker-1:\n",
      "KeyboardInterrupt\n",
      "KeyboardInterrupt\n",
      "Traceback (most recent call last):\n",
      "  File \"/home/nitro/anaconda3/envs/course_work/lib/python3.8/multiprocessing/process.py\", line 315, in _bootstrap\n",
      "    self.run()\n",
      "  File \"/home/nitro/anaconda3/envs/course_work/lib/python3.8/multiprocessing/process.py\", line 108, in run\n",
      "    self._target(*self._args, **self._kwargs)\n",
      "  File \"/home/nitro/anaconda3/envs/course_work/lib/python3.8/multiprocessing/pool.py\", line 125, in worker\n",
      "    result = (True, func(*args, **kwds))\n",
      "  File \"<ipython-input-1-3b0a1c668753>\", line 24, in vid2jpg\n",
      "    subprocess.call(cmd, shell=True,\n",
      "  File \"/home/nitro/anaconda3/envs/course_work/lib/python3.8/subprocess.py\", line 342, in call\n",
      "    return p.wait(timeout=timeout)\n",
      "  File \"/home/nitro/anaconda3/envs/course_work/lib/python3.8/subprocess.py\", line 1079, in wait\n",
      "    return self._wait(timeout=timeout)\n",
      "  File \"/home/nitro/anaconda3/envs/course_work/lib/python3.8/subprocess.py\", line 1804, in _wait\n",
      "    (pid, sts) = self._try_wait(0)\n",
      "  File \"/home/nitro/anaconda3/envs/course_work/lib/python3.8/subprocess.py\", line 1762, in _try_wait\n",
      "    (pid, sts) = os.waitpid(self.pid, wait_flags)\n",
      "KeyboardInterrupt\n",
      "Traceback (most recent call last):\n",
      "  File \"/home/nitro/anaconda3/envs/course_work/lib/python3.8/multiprocessing/process.py\", line 315, in _bootstrap\n",
      "    self.run()\n",
      "  File \"/home/nitro/anaconda3/envs/course_work/lib/python3.8/multiprocessing/process.py\", line 108, in run\n",
      "    self._target(*self._args, **self._kwargs)\n",
      "  File \"/home/nitro/anaconda3/envs/course_work/lib/python3.8/multiprocessing/pool.py\", line 125, in worker\n",
      "    result = (True, func(*args, **kwds))\n",
      "  File \"<ipython-input-1-3b0a1c668753>\", line 24, in vid2jpg\n",
      "    subprocess.call(cmd, shell=True,\n",
      "  File \"/home/nitro/anaconda3/envs/course_work/lib/python3.8/subprocess.py\", line 342, in call\n",
      "    return p.wait(timeout=timeout)\n",
      "  File \"/home/nitro/anaconda3/envs/course_work/lib/python3.8/subprocess.py\", line 1079, in wait\n",
      "    return self._wait(timeout=timeout)\n",
      "  File \"/home/nitro/anaconda3/envs/course_work/lib/python3.8/subprocess.py\", line 1804, in _wait\n",
      "    (pid, sts) = self._try_wait(0)\n",
      "  File \"/home/nitro/anaconda3/envs/course_work/lib/python3.8/subprocess.py\", line 1762, in _try_wait\n",
      "    (pid, sts) = os.waitpid(self.pid, wait_flags)\n",
      "KeyboardInterrupt\n"
     ]
    }
   ],
   "source": [
    "if __name__ == \"__main__\":\n",
    "    dir_path = \"VGAF/Train/\"\n",
    "    dst_dir_path = \"VGAF/Train_img_like_kinetics/\"\n",
    "\n",
    "    class_list = os.listdir(dir_path)\n",
    "    \n",
    "    for class_name in class_list:\n",
    "        class_process(dir_path, dst_dir_path, class_name)\n",
    "\n",
    "    class_name = 'test'\n",
    "    class_process(dir_path, dst_dir_path, class_name)"
   ]
  },
  {
   "cell_type": "code",
   "execution_count": null,
   "metadata": {},
   "outputs": [],
   "source": []
  }
 ],
 "metadata": {
  "kernelspec": {
   "display_name": "Python 3",
   "language": "python",
   "name": "python3"
  },
  "language_info": {
   "codemirror_mode": {
    "name": "ipython",
    "version": 3
   },
   "file_extension": ".py",
   "mimetype": "text/x-python",
   "name": "python",
   "nbconvert_exporter": "python",
   "pygments_lexer": "ipython3",
   "version": "3.8.5"
  }
 },
 "nbformat": 4,
 "nbformat_minor": 4
}
